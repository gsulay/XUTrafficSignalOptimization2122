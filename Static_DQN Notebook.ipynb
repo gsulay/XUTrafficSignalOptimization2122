{
 "cells": [
  {
   "cell_type": "code",
   "execution_count": 1,
   "metadata": {},
   "outputs": [
    {
     "data": {
      "text/plain": [
       "tensor([0.7500])"
      ]
     },
     "execution_count": 1,
     "metadata": {},
     "output_type": "execute_result"
    }
   ],
   "source": [
    "import torch\n",
    "import torch.nn as nn\n",
    "import torch.nn.functional as f\n",
    "from torch import Tensor\n",
    "\n",
    "x = Tensor([9.0])\n",
    "y = Tensor([3.0])\n",
    "z = Tensor([x,y])\n",
    "\n",
    "x/z.sum()"
   ]
  },
  {
   "cell_type": "markdown",
   "metadata": {},
   "source": [
    "## 2 Phase"
   ]
  },
  {
   "cell_type": "code",
   "execution_count": 2,
   "metadata": {},
   "outputs": [
    {
     "data": {
      "text/plain": [
       "array([[15, 45],\n",
       "       [20, 40],\n",
       "       [25, 35],\n",
       "       [30, 30],\n",
       "       [35, 25],\n",
       "       [40, 20],\n",
       "       [45, 15]])"
      ]
     },
     "execution_count": 2,
     "metadata": {},
     "output_type": "execute_result"
    }
   ],
   "source": [
    "import numpy as np\n",
    "import pandas as pd\n",
    "\n",
    "cycle       = 60\n",
    "min_green   = 15\n",
    "interval    = 5\n",
    "\n",
    "x = np.arange(min_green, cycle-min_green+interval, interval)\n",
    "y = [cycle-i for i in x]\n",
    "\n",
    "arry = np.array([x,y])\n",
    "arry = np.transpose(arry)\n",
    "arry"
   ]
  },
  {
   "cell_type": "code",
   "execution_count": 3,
   "metadata": {},
   "outputs": [],
   "source": [
    "import traci\n",
    "from sumolib import checkBinary\n",
    "import sys\n",
    "import os\n",
    "\n",
    "if 'SUMO_HOME' in os.environ:\n",
    "    tools = os.path.join(os.environ['SUMO_HOME'], 'tools')\n",
    "    sys.path.append(tools)\n",
    "else:\n",
    "    sys.exit(\"please declare environment variable 'SUMO_HOME'\")\n",
    "\n",
    "sumocfg_path=\"Simulation_Environment\\Static DQN Simulation\\osm.sumocfg\"\n",
    "traci.start([checkBinary('sumo'),'-c', sumocfg_path])\n",
    "tl = traci.trafficlight.getIDList()[0]"
   ]
  },
  {
   "cell_type": "code",
   "execution_count": 4,
   "metadata": {},
   "outputs": [
    {
     "data": {
      "text/plain": [
       "'4889475255'"
      ]
     },
     "execution_count": 4,
     "metadata": {},
     "output_type": "execute_result"
    }
   ],
   "source": [
    "tl"
   ]
  },
  {
   "cell_type": "code",
   "execution_count": 11,
   "metadata": {},
   "outputs": [
    {
     "data": {
      "text/plain": [
       "[1, 3]"
      ]
     },
     "execution_count": 11,
     "metadata": {},
     "output_type": "execute_result"
    }
   ],
   "source": [
    "import re\n",
    "logic = traci.trafficlight.getCompleteRedYellowGreenDefinition(tl)[0]\n",
    "pattern = r'(y|Y)'\n",
    "phases_with_yellow = [i.state for i in logic.getPhases()]\n",
    "phases = [idx for idx, i in enumerate(phases_with_yellow) if re.search(pattern, i) != None]\n",
    "phases"
   ]
  },
  {
   "cell_type": "code",
   "execution_count": 6,
   "metadata": {},
   "outputs": [
    {
     "data": {
      "text/plain": [
       "['GGGrrsrrrrGGGrrsrrrr',\n",
       " 'yyyrrsrrrryyyrrsrrrr',\n",
       " 'srrrrGGGrrsrrrrGGGrr',\n",
       " 'srrrryyyrrsrrrryyyrr']"
      ]
     },
     "execution_count": 6,
     "metadata": {},
     "output_type": "execute_result"
    }
   ],
   "source": [
    "phases_with_yellow"
   ]
  },
  {
   "cell_type": "code",
   "execution_count": 15,
   "metadata": {},
   "outputs": [
    {
     "data": {
      "text/plain": [
       "array([1., 2., 3.])"
      ]
     },
     "execution_count": 15,
     "metadata": {},
     "output_type": "execute_result"
    }
   ],
   "source": [
    "import numpy as np\n",
    "\n",
    "x=[]\n",
    "for i in range(3):\n",
    "    x.append([1,2,3])\n",
    "x = np.array(x)\n",
    "all = np.array([])\n",
    "\n",
    "for i in range(x.shape[1]):\n",
    "    val = x[:,i].mean()\n",
    "    all = np.append(all,val)\n",
    "\n",
    "all"
   ]
  },
  {
   "cell_type": "code",
   "execution_count": null,
   "metadata": {},
   "outputs": [],
   "source": []
  }
 ],
 "metadata": {
  "interpreter": {
   "hash": "8c0f32cf7d3f637e43f00c62fc56a462560d3b1e318095872e4917cd30cf6909"
  },
  "kernelspec": {
   "display_name": "Python 3.9.7 ('q_learning')",
   "language": "python",
   "name": "python3"
  },
  "language_info": {
   "codemirror_mode": {
    "name": "ipython",
    "version": 3
   },
   "file_extension": ".py",
   "mimetype": "text/x-python",
   "name": "python",
   "nbconvert_exporter": "python",
   "pygments_lexer": "ipython3",
   "version": "3.9.7"
  },
  "orig_nbformat": 4
 },
 "nbformat": 4,
 "nbformat_minor": 2
}
