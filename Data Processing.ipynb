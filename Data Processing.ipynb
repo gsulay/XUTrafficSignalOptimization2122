{
 "cells": [
  {
   "cell_type": "markdown",
   "metadata": {},
   "source": [
    "# <center>Data Dummy Maker</center></br>\n",
    "<p  style=\"text-align:center\">\n",
    "<img src = \"pics/graph.gif\" style = \"width:600px\"></br></p>\n",
    "The objective of this notebook is to explain how the dummy maker function works. The first pre requisite is that the data is already processed through machine learning and is converted into a numpy array of x and y"
   ]
  },
  {
   "cell_type": "markdown",
   "metadata": {},
   "source": [
    "## Setting up the environement\n",
    "We set up the environement and create a dummy numpy array where it represents our future collected data"
   ]
  },
  {
   "cell_type": "code",
   "execution_count": 1,
   "metadata": {
    "jupyter": {
     "source_hidden": true
    }
   },
   "outputs": [],
   "source": [
    "#Setting up the environement\n",
    "import math as m\n",
    "import numpy as np\n",
    "import pandas as pd\n",
    "import matplotlib.pyplot as plt\n",
    "import datetime\n",
    "\n",
    "#Dummy pandas dataframe\n",
    "#Setting up time in minutes\n",
    "start = 0\n",
    "end = 480\n",
    "def minute_range(start, end, step=15):\n",
    "    cur = start\n",
    "    time_list = [cur]\n",
    "    while cur < end:\n",
    "        cur = cur+step\n",
    "        time_list.append(cur)\n",
    "    return time_list\n",
    "        \n",
    "    \n",
    "time_list = minute_range(start,end,15)\n",
    "x = np.linspace(0,m.pi*50,len(time_list))\n",
    "y = np.array([m.sin(i/50)*50for i in x])\n",
    "time = time_list\n"
   ]
  },
  {
   "cell_type": "code",
   "execution_count": 2,
   "metadata": {},
   "outputs": [
    {
     "data": {
      "text/html": [
       "<div>\n",
       "<style scoped>\n",
       "    .dataframe tbody tr th:only-of-type {\n",
       "        vertical-align: middle;\n",
       "    }\n",
       "\n",
       "    .dataframe tbody tr th {\n",
       "        vertical-align: top;\n",
       "    }\n",
       "\n",
       "    .dataframe thead th {\n",
       "        text-align: right;\n",
       "    }\n",
       "</style>\n",
       "<table border=\"1\" class=\"dataframe\">\n",
       "  <thead>\n",
       "    <tr style=\"text-align: right;\">\n",
       "      <th></th>\n",
       "      <th>Time</th>\n",
       "      <th>Demand</th>\n",
       "    </tr>\n",
       "  </thead>\n",
       "  <tbody>\n",
       "    <tr>\n",
       "      <th>0</th>\n",
       "      <td>0</td>\n",
       "      <td>0.000000e+00</td>\n",
       "    </tr>\n",
       "    <tr>\n",
       "      <th>1</th>\n",
       "      <td>15</td>\n",
       "      <td>4.900857e+00</td>\n",
       "    </tr>\n",
       "    <tr>\n",
       "      <th>2</th>\n",
       "      <td>30</td>\n",
       "      <td>9.754516e+00</td>\n",
       "    </tr>\n",
       "    <tr>\n",
       "      <th>3</th>\n",
       "      <td>45</td>\n",
       "      <td>1.451423e+01</td>\n",
       "    </tr>\n",
       "    <tr>\n",
       "      <th>4</th>\n",
       "      <td>60</td>\n",
       "      <td>1.913417e+01</td>\n",
       "    </tr>\n",
       "    <tr>\n",
       "      <th>5</th>\n",
       "      <td>75</td>\n",
       "      <td>2.356984e+01</td>\n",
       "    </tr>\n",
       "    <tr>\n",
       "      <th>6</th>\n",
       "      <td>90</td>\n",
       "      <td>2.777851e+01</td>\n",
       "    </tr>\n",
       "    <tr>\n",
       "      <th>7</th>\n",
       "      <td>105</td>\n",
       "      <td>3.171966e+01</td>\n",
       "    </tr>\n",
       "    <tr>\n",
       "      <th>8</th>\n",
       "      <td>120</td>\n",
       "      <td>3.535534e+01</td>\n",
       "    </tr>\n",
       "    <tr>\n",
       "      <th>9</th>\n",
       "      <td>135</td>\n",
       "      <td>3.865052e+01</td>\n",
       "    </tr>\n",
       "    <tr>\n",
       "      <th>10</th>\n",
       "      <td>150</td>\n",
       "      <td>4.157348e+01</td>\n",
       "    </tr>\n",
       "    <tr>\n",
       "      <th>11</th>\n",
       "      <td>165</td>\n",
       "      <td>4.409606e+01</td>\n",
       "    </tr>\n",
       "    <tr>\n",
       "      <th>12</th>\n",
       "      <td>180</td>\n",
       "      <td>4.619398e+01</td>\n",
       "    </tr>\n",
       "    <tr>\n",
       "      <th>13</th>\n",
       "      <td>195</td>\n",
       "      <td>4.784702e+01</td>\n",
       "    </tr>\n",
       "    <tr>\n",
       "      <th>14</th>\n",
       "      <td>210</td>\n",
       "      <td>4.903926e+01</td>\n",
       "    </tr>\n",
       "    <tr>\n",
       "      <th>15</th>\n",
       "      <td>225</td>\n",
       "      <td>4.975924e+01</td>\n",
       "    </tr>\n",
       "    <tr>\n",
       "      <th>16</th>\n",
       "      <td>240</td>\n",
       "      <td>5.000000e+01</td>\n",
       "    </tr>\n",
       "    <tr>\n",
       "      <th>17</th>\n",
       "      <td>255</td>\n",
       "      <td>4.975924e+01</td>\n",
       "    </tr>\n",
       "    <tr>\n",
       "      <th>18</th>\n",
       "      <td>270</td>\n",
       "      <td>4.903926e+01</td>\n",
       "    </tr>\n",
       "    <tr>\n",
       "      <th>19</th>\n",
       "      <td>285</td>\n",
       "      <td>4.784702e+01</td>\n",
       "    </tr>\n",
       "    <tr>\n",
       "      <th>20</th>\n",
       "      <td>300</td>\n",
       "      <td>4.619398e+01</td>\n",
       "    </tr>\n",
       "    <tr>\n",
       "      <th>21</th>\n",
       "      <td>315</td>\n",
       "      <td>4.409606e+01</td>\n",
       "    </tr>\n",
       "    <tr>\n",
       "      <th>22</th>\n",
       "      <td>330</td>\n",
       "      <td>4.157348e+01</td>\n",
       "    </tr>\n",
       "    <tr>\n",
       "      <th>23</th>\n",
       "      <td>345</td>\n",
       "      <td>3.865052e+01</td>\n",
       "    </tr>\n",
       "    <tr>\n",
       "      <th>24</th>\n",
       "      <td>360</td>\n",
       "      <td>3.535534e+01</td>\n",
       "    </tr>\n",
       "    <tr>\n",
       "      <th>25</th>\n",
       "      <td>375</td>\n",
       "      <td>3.171966e+01</td>\n",
       "    </tr>\n",
       "    <tr>\n",
       "      <th>26</th>\n",
       "      <td>390</td>\n",
       "      <td>2.777851e+01</td>\n",
       "    </tr>\n",
       "    <tr>\n",
       "      <th>27</th>\n",
       "      <td>405</td>\n",
       "      <td>2.356984e+01</td>\n",
       "    </tr>\n",
       "    <tr>\n",
       "      <th>28</th>\n",
       "      <td>420</td>\n",
       "      <td>1.913417e+01</td>\n",
       "    </tr>\n",
       "    <tr>\n",
       "      <th>29</th>\n",
       "      <td>435</td>\n",
       "      <td>1.451423e+01</td>\n",
       "    </tr>\n",
       "    <tr>\n",
       "      <th>30</th>\n",
       "      <td>450</td>\n",
       "      <td>9.754516e+00</td>\n",
       "    </tr>\n",
       "    <tr>\n",
       "      <th>31</th>\n",
       "      <td>465</td>\n",
       "      <td>4.900857e+00</td>\n",
       "    </tr>\n",
       "    <tr>\n",
       "      <th>32</th>\n",
       "      <td>480</td>\n",
       "      <td>6.123234e-15</td>\n",
       "    </tr>\n",
       "  </tbody>\n",
       "</table>\n",
       "</div>"
      ],
      "text/plain": [
       "    Time        Demand\n",
       "0      0  0.000000e+00\n",
       "1     15  4.900857e+00\n",
       "2     30  9.754516e+00\n",
       "3     45  1.451423e+01\n",
       "4     60  1.913417e+01\n",
       "5     75  2.356984e+01\n",
       "6     90  2.777851e+01\n",
       "7    105  3.171966e+01\n",
       "8    120  3.535534e+01\n",
       "9    135  3.865052e+01\n",
       "10   150  4.157348e+01\n",
       "11   165  4.409606e+01\n",
       "12   180  4.619398e+01\n",
       "13   195  4.784702e+01\n",
       "14   210  4.903926e+01\n",
       "15   225  4.975924e+01\n",
       "16   240  5.000000e+01\n",
       "17   255  4.975924e+01\n",
       "18   270  4.903926e+01\n",
       "19   285  4.784702e+01\n",
       "20   300  4.619398e+01\n",
       "21   315  4.409606e+01\n",
       "22   330  4.157348e+01\n",
       "23   345  3.865052e+01\n",
       "24   360  3.535534e+01\n",
       "25   375  3.171966e+01\n",
       "26   390  2.777851e+01\n",
       "27   405  2.356984e+01\n",
       "28   420  1.913417e+01\n",
       "29   435  1.451423e+01\n",
       "30   450  9.754516e+00\n",
       "31   465  4.900857e+00\n",
       "32   480  6.123234e-15"
      ]
     },
     "execution_count": 2,
     "metadata": {},
     "output_type": "execute_result"
    }
   ],
   "source": [
    "sd = 5\n",
    "df = pd.DataFrame({'Time':time_list,'Demand':y})\n",
    "df"
   ]
  },
  {
   "cell_type": "markdown",
   "metadata": {},
   "source": [
    "## How the Data Looks\n",
    "\n",
    "This is what the data is supposed to look like"
   ]
  },
  {
   "cell_type": "code",
   "execution_count": 3,
   "metadata": {
    "jupyter": {
     "source_hidden": true
    }
   },
   "outputs": [
    {
     "data": {
      "text/plain": [
       "<AxesSubplot:xlabel='Time(Minutes)', ylabel='Demand(No of Vehicles)'>"
      ]
     },
     "execution_count": 3,
     "metadata": {},
     "output_type": "execute_result"
    },
    {
     "data": {
      "image/png": "[encoded data removed]",
      "text/plain": [
       "<Figure size 432x288 with 1 Axes>"
      ]
     },
     "metadata": {
      "needs_background": "light"
     },
     "output_type": "display_data"
    }
   ],
   "source": [
    "ticks_df = df.iloc[np.arange(0,31,10)]\n",
    "x_ticks = ticks_df['Time']\n",
    "\n",
    "fig,ax = plt.subplots()\n",
    "ax.plot(df.Time,df.Demand)\n",
    "ax.set_xticks(x_ticks)\n",
    "ax.set(ylabel = 'Demand(No of Vehicles)', xlabel = 'Time(Minutes)')\n",
    "ax"
   ]
  },
  {
   "cell_type": "markdown",
   "metadata": {},
   "source": [
    "### The Main Function"
   ]
  },
  {
   "cell_type": "code",
   "execution_count": 4,
   "metadata": {},
   "outputs": [],
   "source": [
    "df['Demand'] = df['Demand'].apply(lambda x: np.random.uniform(x - sd, x + sd, 1))"
   ]
  },
  {
   "cell_type": "markdown",
   "metadata": {},
   "source": [
    "### How the Data Looks AFter Randomization"
   ]
  },
  {
   "cell_type": "code",
   "execution_count": 5,
   "metadata": {
    "jupyter": {
     "source_hidden": true
    }
   },
   "outputs": [
    {
     "data": {
      "text/plain": [
       "<AxesSubplot:xlabel='Time(Minutes)', ylabel='Demand(No of Vehicles)'>"
      ]
     },
     "execution_count": 5,
     "metadata": {},
     "output_type": "execute_result"
    },
    {
     "data": {
      "image/png": "[encoded data removed]",
      "text/plain": [
       "<Figure size 432x288 with 1 Axes>"
      ]
     },
     "metadata": {
      "needs_background": "light"
     },
     "output_type": "display_data"
    }
   ],
   "source": [
    "y_new = df.Demand\n",
    "fig,ax = plt.subplots()\n",
    "ax.plot(df.Time,y_new)\n",
    "ax.set_xticks(x_ticks)\n",
    "ax.set(ylabel = 'Demand(No of Vehicles)', xlabel = 'Time(Minutes)')\n",
    "ax"
   ]
  },
  {
   "cell_type": "markdown",
   "metadata": {},
   "source": [
    "## Complete Code"
   ]
  },
  {
   "cell_type": "code",
   "execution_count": 6,
   "metadata": {},
   "outputs": [],
   "source": [
    "def randomize(df,sd):\n",
    "    df['Demand'] = df['Demand'].apply(lambda x: np.random.uniform(x-sd, x+sd, 1))\n",
    "    return df"
   ]
  }
 ],
 "metadata": {
  "kernelspec": {
   "display_name": "Python 3",
   "language": "python",
   "name": "python3"
  },
  "language_info": {
   "codemirror_mode": {
    "name": "ipython",
    "version": 3
   },
   "file_extension": ".py",
   "mimetype": "text/x-python",
   "name": "python",
   "nbconvert_exporter": "python",
   "pygments_lexer": "ipython3",
   "version": "3.8.5"
  }
 },
 "nbformat": 4,
 "nbformat_minor": 4
}
