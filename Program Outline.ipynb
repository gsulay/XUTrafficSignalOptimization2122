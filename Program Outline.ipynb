{
 "cells": [
  {
   "cell_type": "code",
   "execution_count": 4,
   "metadata": {},
   "outputs": [],
   "source": [
    "import pandas as pd\n",
    "import numpy as np\n",
    "def to_df(list):\n",
    "    pass\n",
    "def pi(df):\n",
    "    pass\n",
    "def time(df):\n",
    "    pass"
   ]
  },
  {
   "cell_type": "markdown",
   "metadata": {},
   "source": [
    "# Traffic Light Switchin Code\n",
    "The purpose of this notebook is to explain the algorithm used by the research. The a"
   ]
  },
  {
   "cell_type": "code",
   "execution_count": null,
   "metadata": {},
   "outputs": [],
   "source": [
    "qi_df = to_df[r_id_1,r_id_2] #returns dataframe of phase's leg characteristics\n",
    "#r_id|max_capacity|n"
   ]
  },
  {
   "cell_type": "markdown",
   "metadata": {},
   "source": [
    "## Eq.1 </br><img src=\"pics\\equation1.png\">"
   ]
  },
  {
   "cell_type": "code",
   "execution_count": null,
   "metadata": {},
   "outputs": [],
   "source": [
    "qi_df = pi(qi_df) #returns dataframe with added pi(time needed to clear leg) use eq. 1\n",
    "#r_id|mx_capacity|n|pi"
   ]
  },
  {
   "cell_type": "code",
   "execution_count": null,
   "metadata": {},
   "outputs": [],
   "source": [
    "q_max_between = max_between(q1,q2)#returns max overall"
   ]
  },
  {
   "cell_type": "code",
   "execution_count": null,
   "metadata": {},
   "outputs": [],
   "source": [
    "qi_time = time(qi_df) #returns the largest time needed to clear a leg between the two legs in the phase"
   ]
  },
  {
   "cell_type": "code",
   "execution_count": null,
   "metadata": {},
   "outputs": [],
   "source": [
    "#if no demand\n",
    "if q1_time == 0 and q2_time == 0:\n",
    "    q1_time, q2_time = \"FY\"\n",
    "    time.sleep(2)\n",
    "\n",
    "#if only one leg in demand\n",
    "elif q1_time >0 or q2_time > 0:\n",
    "    if q1_time > 0:\n",
    "        t_q1 = 'G'\n",
    "        t_q2 = 'R'\n",
    "        set_traffic_light(t_q1,t_q2)\n",
    "        pass\n",
    "    else:\n",
    "        t_q1 = 'R'\n",
    "        t_q1 = 'G'\n",
    "        set_traffic_light(t_q1,t_q2)\n",
    "        pass\n",
    "\n",
    "#if both legs in demand\n",
    "elif q1_time>0 and q2_time>0:\n",
    "    if q1_time>0:\n",
    "        eff = q1_time/q2_time\n",
    "        t_q1 = q1_time*eff\n",
    "        t_q2 = q_max_between - t_q1\n",
    "    else:\n",
    "        eff = q2_time/q1_time\n",
    "        t_q2 = q2_time*eff\n",
    "        t_q1 = q_max_between - t_q2\n",
    "    #minimum = 20s\n",
    "    if q2_time < minimum:\n",
    "        t_q1 = q_max_between - minimum\n",
    "        t_q2 = minimum\n",
    "    else:\n",
    "        t_q2 = q_max_between - minimum\n",
    "        t_q1 = minimum\n",
    "else:\n",
    "    print('Error')\n",
    "    \n",
    "set_traffic_light(t_q1,t_q2)"
   ]
  },
  {
   "cell_type": "code",
   "execution_count": null,
   "metadata": {},
   "outputs": [],
   "source": []
  },
  {
   "cell_type": "code",
   "execution_count": null,
   "metadata": {},
   "outputs": [],
   "source": [
    "\n"
   ]
  }
 ],
 "metadata": {
  "kernelspec": {
   "display_name": "Python 3",
   "language": "python",
   "name": "python3"
  },
  "language_info": {
   "codemirror_mode": {
    "name": "ipython",
    "version": 3
   },
   "file_extension": ".py",
   "mimetype": "text/x-python",
   "name": "python",
   "nbconvert_exporter": "python",
   "pygments_lexer": "ipython3",
   "version": "3.8.5"
  }
 },
 "nbformat": 4,
 "nbformat_minor": 4
}
