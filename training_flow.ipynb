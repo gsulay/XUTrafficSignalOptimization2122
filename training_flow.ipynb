{
 "cells": [
  {
   "cell_type": "code",
   "execution_count": 1,
   "metadata": {},
   "outputs": [
    {
     "data": {
      "text/plain": [
       "['Data\\\\Vehicle Data\\\\bicycle_tricycle.json',\n",
       " 'Data\\\\Vehicle Data\\\\buses.json',\n",
       " 'Data\\\\Vehicle Data\\\\cars_SUV.json',\n",
       " 'Data\\\\Vehicle Data\\\\jeepney.json',\n",
       " 'Data\\\\Vehicle Data\\\\largeTrucks.json',\n",
       " 'Data\\\\Vehicle Data\\\\motorcycles_scooters.json',\n",
       " 'Data\\\\Vehicle Data\\\\motorela.json',\n",
       " 'Data\\\\Vehicle Data\\\\smallTrucks.json',\n",
       " 'Data\\\\Vehicle Data\\\\taxi.json']"
      ]
     },
     "execution_count": 1,
     "metadata": {},
     "output_type": "execute_result"
    }
   ],
   "source": [
    "import os\n",
    "\n",
    "#extracts the json directory\n",
    "files = [file for file in os.listdir('Data\\Vehicle Data') \n",
    "if os.path.isfile(os.path.join('Data\\Vehicle Data',file))==True]\n",
    "json_files = [os.path.join('Data\\Vehicle Data',file) for file in files if file.split('.')[1]=='json']\n",
    "json_files"
   ]
  },
  {
   "cell_type": "code",
   "execution_count": 2,
   "metadata": {},
   "outputs": [
    {
     "data": {
      "text/plain": [
       "dict_keys(['bicycle_tricycle', 'buses', 'cars_SUV', 'jeepney', 'largeTrucks', 'motorcycles_scooters', 'motorela', 'smallTrucks', 'taxi'])"
      ]
     },
     "execution_count": 2,
     "metadata": {},
     "output_type": "execute_result"
    }
   ],
   "source": [
    "import logic as lc\n",
    "\n",
    "vtype_dict = {}\n",
    "for i in json_files:\n",
    "    vtype = lc.json_loader(i)\n",
    "    vtype_dict[vtype['id']] = vtype\n",
    "\n",
    "vtype_dict.keys()"
   ]
  },
  {
   "cell_type": "code",
   "execution_count": 3,
   "metadata": {},
   "outputs": [
    {
     "data": {
      "text/plain": [
       "cars_SUV                0.315631\n",
       "motorcycles_scooters    0.238142\n",
       "taxi                    0.096226\n",
       "buses                   0.000798\n",
       "smallTrucks             0.013210\n",
       "largeTrucks             0.000975\n",
       "bicycle_tricycle        0.003576\n",
       "jeepney                 0.050330\n",
       "motorela                0.281112\n",
       "dtype: float64"
      ]
     },
     "execution_count": 3,
     "metadata": {},
     "output_type": "execute_result"
    }
   ],
   "source": [
    "import pandas as pd\n",
    "import openpyxl\n",
    "\n",
    "#Create dataframe of probability distribution from TVC Data\n",
    "wb = openpyxl.load_workbook('Data\\Intersection Data\\Corrales - JR Borja\\TVC Summary.xlsx',data_only=True)\n",
    "sheets = wb.sheetnames\n",
    "all_dfs=[]\n",
    "for sheet in sheets:\n",
    "    ws = wb[sheet]\n",
    "\n",
    "    column_names=ws['B1:K1']\n",
    "    data = ws['B2:K17']\n",
    "\n",
    "    all_data = []\n",
    "    for row in data:\n",
    "        rows=[]\n",
    "        for cell in row:\n",
    "            rows.append(cell.value)\n",
    "        all_data.append(rows)\n",
    "\n",
    "    columns=[]\n",
    "    for row in column_names:\n",
    "        for cell in row:\n",
    "            columns.append(cell.value)\n",
    "    \n",
    "    df = pd.DataFrame(all_data, columns=columns)\n",
    "    all_dfs.append(df)\n",
    "\n",
    "main_df = pd.concat(all_dfs).fillna(0).reset_index(drop=True).iloc[:,0:-1]  #drop others column\n",
    "distribution_df = main_df.sum()/main_df.sum().sum()\n",
    "distribution_df #probability distribution"
   ]
  },
  {
   "cell_type": "code",
   "execution_count": 84,
   "metadata": {},
   "outputs": [
    {
     "data": {
      "text/plain": [
       "['<routeDistribution id=\"routedist1\">',\n",
       " '    <route id=\"route0\" edges=\"785902529 732022517\" probability=\"0.125\"/>',\n",
       " '    <route id=\"route1\" edges=\"785902529 -785902540#1\" probability=\"0.125\"/>',\n",
       " '    <route id=\"route2\" edges=\"785902540#0 732022517\" probability=\"0.125\"/>',\n",
       " '    <route id=\"route3\" edges=\"785902540#0 785902540#2\" probability=\"0.125\"/>',\n",
       " '    <route id=\"route4\" edges=\"-732022517 785902540#2\" probability=\"0.125\"/>',\n",
       " '    <route id=\"route5\" edges=\"-732022517 -785902529\" probability=\"0.125\"/>',\n",
       " '    <route id=\"route6\" edges=\"-785902540#2 -785902529\" probability=\"0.125\"/>',\n",
       " '    <route id=\"route7\" edges=\"-785902540#2 -785902540#1\" probability=\"0.125\"/>',\n",
       " '</routeDistribution>']"
      ]
     },
     "execution_count": 84,
     "metadata": {},
     "output_type": "execute_result"
    }
   ],
   "source": [
    "from pathlib import Path\n",
    "reference = lc.json_loader(Path(r'Data\\Intersection Data\\Corrales - JR Borja\\reference_dict.json')) #used to for clarity purposes\n",
    "\n",
    "lane_link={ \n",
    "    reference['North_a']    :[reference['South_f'], reference['West_f']],\n",
    "    reference['West_a']     :[reference['South_f'], reference['East_f']],\n",
    "    reference['South_a']    :[reference['East_f'], reference['North_f']],\n",
    "    reference['East_a']     :[reference['North_f'], reference['West_f']]\n",
    "}\n",
    "equal_route_distribution_probability =1/sum([len(lane) for lane in lane_link.values()])\n",
    "\n",
    "route_distribution_command_list = []\n",
    "count = 0\n",
    "route_distribution_command_list.append('<routeDistribution id=\"routedist1\">')\n",
    "for lane_approach in lane_link:\n",
    "    for lane_exit in lane_link[lane_approach]:\n",
    "        command = f'    <route id=\"route{count}\" edges=\"{lane_approach} {lane_exit}\" probability=\"{equal_route_distribution_probability}\"/>'\n",
    "        route_distribution_command_list.append(command)\n",
    "        count += 1\n",
    "\n",
    "route_distribution_command_list.append('</routeDistribution>')\n",
    "route_distribution_command_list"
   ]
  },
  {
   "cell_type": "code",
   "execution_count": 85,
   "metadata": {},
   "outputs": [
    {
     "data": {
      "text/plain": [
       "['<vType accel=\"0.8\" decel=\"4.5\" sigma=\"0.5\" length=\"5.0\" minGap=\"2.5\" maxSpeed=\"30.0\" guiShape=\"passenger\" color=\"0,0,255\" id=\"cars_SUV\" />',\n",
       " '    <flow type=\"cars_SUV\" id=\"cars_SUV\" probability=\"0.316\" begin=\"0\" end=\"3600\" route=\"routedist1\"/>',\n",
       " '<vType accel=\"1.0\" decel=\"4.5\" sigma=\"0.5\" length=\"2.0\" minGap=\"0.5\" maxSpeed=\"30.0\" guiShape=\"bicycle\" color=\"255,0,0\" id=\"motorcycles_scooters\" />',\n",
       " '    <flow type=\"motorcycles_scooters\" id=\"motorcycles_scooters\" probability=\"0.238\" begin=\"0\" end=\"3600\" route=\"routedist1\"/>',\n",
       " '<vType accel=\"1.0\" decel=\"4.5\" sigma=\"0.5\" length=\"2.0\" minGap=\"0.5\" maxSpeed=\"30.0\" guiShape=\"passenger/sedan\" color=\"85,176,73\" id=\"taxi\" />',\n",
       " '    <flow type=\"taxi\" id=\"taxi\" probability=\"0.096\" begin=\"0\" end=\"3600\" route=\"routedist1\"/>',\n",
       " '<vType accel=\"0.4\" decel=\"2.0\" sigma=\"0.5\" length=\"15.0\" minGap=\"2.5\" maxSpeed=\"30.0\" guiShape=\"bus\" color=\"255,255,0\" id=\"buses\" />',\n",
       " '    <flow type=\"buses\" id=\"buses\" probability=\"0.001\" begin=\"0\" end=\"3600\" route=\"routedist1\"/>',\n",
       " '<vType accel=\"0.8\" decel=\"4.0\" sigma=\"0.5\" length=\"7.0\" minGap=\"2.5\" maxSpeed=\"30.0\" guiShape=\"truck\" color=\"93,85,192\" id=\"smallTrucks\" />',\n",
       " '    <flow type=\"smallTrucks\" id=\"smallTrucks\" probability=\"0.013\" begin=\"0\" end=\"3600\" route=\"routedist1\"/>',\n",
       " '<vType accel=\"0.4\" decel=\"3.0\" sigma=\"0.5\" length=\"12.0\" minGap=\"2.5\" maxSpeed=\"30.0\" guiShape=\"truck/trailer\" color=\"239,69,98\" id=\"largeTrucks\" />',\n",
       " '    <flow type=\"largeTrucks\" id=\"largeTrucks\" probability=\"0.001\" begin=\"0\" end=\"3600\" route=\"routedist1\"/>',\n",
       " '<vType accel=\"3.0\" decel=\"4.5\" sigma=\"0.5\" length=\"2.0\" minGap=\"0.5\" maxSpeed=\"15.0\" guiShape=\"bicycle\" color=\"30,255,0\" id=\"bicycle_tricycle\" />',\n",
       " '    <flow type=\"bicycle_tricycle\" id=\"bicycle_tricycle\" probability=\"0.004\" begin=\"0\" end=\"3600\" route=\"routedist1\"/>',\n",
       " '<vType accel=\"0.8\" decel=\"4.0\" sigma=\"0.5\" length=\"7.0\" minGap=\"2.5\" maxSpeed=\"30.0\" guiShape=\"truck/semitrailer\" color=\"120,67,96\" id=\"jeepney\" />',\n",
       " '    <flow type=\"jeepney\" id=\"jeepney\" probability=\"0.05\" begin=\"0\" end=\"3600\" route=\"routedist1\"/>',\n",
       " '<vType accel=\"2.0\" decel=\"4.5\" sigma=\"0.5\" length=\"2.0\" minGap=\"0.5\" maxSpeed=\"30.0\" guiShape=\"passenger/wagon\" color=\"138,241,117\" id=\"motorela\" />',\n",
       " '    <flow type=\"motorela\" id=\"motorela\" probability=\"0.281\" begin=\"0\" end=\"3600\" route=\"routedist1\"/>']"
      ]
     },
     "execution_count": 85,
     "metadata": {},
     "output_type": "execute_result"
    }
   ],
   "source": [
    "import numpy as np\n",
    "probability_dict={}\n",
    "\n",
    "BEGIN = 0\n",
    "END = 3600\n",
    "\n",
    "for idx, value in enumerate(distribution_df):\n",
    "    probability_dict[distribution_df.index.values[idx]] = float(np.round(value, 3))\n",
    "\n",
    "vtype_command_list = []\n",
    "#compile dict and json to vtype command\n",
    "for prob_id in probability_dict:\n",
    "    #vType command maker\n",
    "    keys = list(vtype_dict[prob_id].keys())\n",
    "    values = list(vtype_dict[prob_id].values())\n",
    "    key_value_string = [\"<vType\"]+[f'{key}=\"{value}\"' for key,value in zip(keys,values)] + [\"/>\"]\n",
    "    command = \" \".join(key_value_string)\n",
    "    vtype_command_list.append(command)\n",
    "\n",
    "    #Flow command maker\n",
    "    probability = probability_dict[prob_id]\n",
    "    vtype_id = vtype_dict[prob_id]['id']\n",
    "    flow = f'    <flow type=\"{vtype_id}\" id=\"{vtype_id}\" probability=\"{probability_dict[prob_id]}\" begin=\"{BEGIN}\" end=\"{END}\" route=\"routedist1\"/>'\n",
    "    vtype_command_list.append(flow)\n",
    "vtype_command_list"
   ]
  },
  {
   "cell_type": "markdown",
   "metadata": {},
   "source": [
    "## Create Distribution XML on Simulation Training Folder "
   ]
  },
  {
   "cell_type": "code",
   "execution_count": 73,
   "metadata": {},
   "outputs": [],
   "source": [
    "PATH = Path(r'Simulation_Environment\\Simulation Training')\n",
    "\n",
    "with open(os.path.join(PATH,'routeDistribution.xml'), 'w') as f:\n",
    "    f.write(\"<routes> \\n\")\n",
    "\n",
    "    for command in route_distribution_command_list:\n",
    "        f.write(f'  {command}\\n')\n",
    "\n",
    "    for command in vtype_command_list:\n",
    "        f.write(f'  {command}\\n')\n",
    "    \n",
    "    f.write('</routes>')"
   ]
  },
  {
   "cell_type": "code",
   "execution_count": 83,
   "metadata": {},
   "outputs": [
    {
     "name": "stdout",
     "output_type": "stream",
     "text": [
      "1\n",
      "0\n",
      "0\n",
      "0\n",
      "0\n",
      "1\n",
      "1\n",
      "0\n",
      "1\n",
      "0\n"
     ]
    }
   ],
   "source": [
    "import numpy as np\n",
    "\n",
    "for i in range(10):\n",
    "    print(np.random.randint(0,2))"
   ]
  },
  {
   "cell_type": "code",
   "execution_count": null,
   "metadata": {},
   "outputs": [],
   "source": []
  }
 ],
 "metadata": {
  "interpreter": {
   "hash": "b3c0ec9e9f99b7bdfe271bef436e807137f3dcedc5d9482884128fa5654513db"
  },
  "kernelspec": {
   "display_name": "Python 3.9.7 ('base')",
   "language": "python",
   "name": "python3"
  },
  "language_info": {
   "codemirror_mode": {
    "name": "ipython",
    "version": 3
   },
   "file_extension": ".py",
   "mimetype": "text/x-python",
   "name": "python",
   "nbconvert_exporter": "python",
   "pygments_lexer": "ipython3",
   "version": "3.9.7"
  },
  "orig_nbformat": 4
 },
 "nbformat": 4,
 "nbformat_minor": 2
}
