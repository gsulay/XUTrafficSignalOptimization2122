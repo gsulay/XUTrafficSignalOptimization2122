{
 "cells": [
  {
   "cell_type": "code",
   "execution_count": 60,
   "metadata": {},
   "outputs": [],
   "source": [
    "import pandas as pd\n",
    "import numpy as np\n",
    "import os"
   ]
  },
  {
   "cell_type": "code",
   "execution_count": 70,
   "metadata": {},
   "outputs": [
    {
     "data": {
      "text/html": [
       "<div>\n",
       "<style scoped>\n",
       "    .dataframe tbody tr th:only-of-type {\n",
       "        vertical-align: middle;\n",
       "    }\n",
       "\n",
       "    .dataframe tbody tr th {\n",
       "        vertical-align: top;\n",
       "    }\n",
       "\n",
       "    .dataframe thead th {\n",
       "        text-align: right;\n",
       "    }\n",
       "</style>\n",
       "<table border=\"1\" class=\"dataframe\">\n",
       "  <thead>\n",
       "    <tr style=\"text-align: right;\">\n",
       "      <th></th>\n",
       "      <th>accel</th>\n",
       "      <th>decel</th>\n",
       "      <th>sigma</th>\n",
       "      <th>length</th>\n",
       "      <th>minGap</th>\n",
       "      <th>maxSpeed</th>\n",
       "      <th>guiShape</th>\n",
       "      <th>color</th>\n",
       "      <th>id</th>\n",
       "    </tr>\n",
       "  </thead>\n",
       "  <tbody>\n",
       "    <tr>\n",
       "      <th>0</th>\n",
       "      <td>0.8</td>\n",
       "      <td>4.0</td>\n",
       "      <td>0.5</td>\n",
       "      <td>7.0</td>\n",
       "      <td>2.5</td>\n",
       "      <td>30.0</td>\n",
       "      <td>truck</td>\n",
       "      <td>0,0,255</td>\n",
       "      <td>smallTrucks</td>\n",
       "    </tr>\n",
       "  </tbody>\n",
       "</table>\n",
       "</div>"
      ],
      "text/plain": [
       "   accel  decel  sigma  length  minGap  maxSpeed guiShape    color  \\\n",
       "0    0.8    4.0    0.5     7.0     2.5      30.0    truck  0,0,255   \n",
       "\n",
       "            id  \n",
       "0  smallTrucks  "
      ]
     },
     "execution_count": 70,
     "metadata": {},
     "output_type": "execute_result"
    }
   ],
   "source": [
    "path='smallTrucks.xlsx'\n",
    "df = pd.read_excel(path, sheet_name='Properties')\n",
    "\n",
    "sheets = pd.ExcelFile(path).sheet_names\n",
    "df_dict = {}\n",
    "\n",
    "def change_data_type(val):\n",
    "    if type(val)==int:\n",
    "        return float(val)\n",
    "    return val\n",
    "\n",
    "df = df.applymap(change_data_type).drop(columns=['type'])\n",
    "df['id']=[path.split('.')[0]]\n",
    "\n",
    "values = df.iloc[0].values\n",
    "columns = df.columns.values\n",
    "\n",
    "blank_dict = {}\n",
    "for column, value in zip(columns, values):\n",
    "    blank_dict[column] = value\n",
    "\n",
    "\n",
    "import json\n",
    "\n",
    "with open(f\"{path.split('.')[0]}.json\",\"w\") as f:\n",
    "    data=json.dumps(blank_dict)\n",
    "    f.write(data)\n",
    "df"
   ]
  },
  {
   "cell_type": "code",
   "execution_count": 58,
   "metadata": {},
   "outputs": [
    {
     "name": "stdout",
     "output_type": "stream",
     "text": [
      "<class 'numpy.float64'>\n",
      "<class 'numpy.float64'>\n",
      "<class 'numpy.float64'>\n",
      "<class 'numpy.float64'>\n",
      "<class 'numpy.float64'>\n",
      "<class 'numpy.float64'>\n",
      "<class 'str'>\n",
      "<class 'str'>\n",
      "<class 'str'>\n"
     ]
    }
   ],
   "source": []
  },
  {
   "cell_type": "code",
   "execution_count": 42,
   "metadata": {},
   "outputs": [
    {
     "data": {
      "text/plain": [
       "numpy.int64"
      ]
     },
     "execution_count": 42,
     "metadata": {},
     "output_type": "execute_result"
    }
   ],
   "source": [
    "x = np.int64(3)\n"
   ]
  },
  {
   "cell_type": "code",
   "execution_count": null,
   "metadata": {},
   "outputs": [],
   "source": []
  }
 ],
 "metadata": {
  "interpreter": {
   "hash": "b3c0ec9e9f99b7bdfe271bef436e807137f3dcedc5d9482884128fa5654513db"
  },
  "kernelspec": {
   "display_name": "Python 3.8.5 64-bit ('base': conda)",
   "language": "python",
   "name": "python3"
  },
  "language_info": {
   "codemirror_mode": {
    "name": "ipython",
    "version": 3
   },
   "file_extension": ".py",
   "mimetype": "text/x-python",
   "name": "python",
   "nbconvert_exporter": "python",
   "pygments_lexer": "ipython3",
   "version": "3.8.5"
  },
  "orig_nbformat": 4
 },
 "nbformat": 4,
 "nbformat_minor": 2
}
