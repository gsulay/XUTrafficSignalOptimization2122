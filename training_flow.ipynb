{
 "cells": [
  {
   "cell_type": "code",
   "execution_count": 21,
   "metadata": {},
   "outputs": [
    {
     "data": {
      "text/plain": [
       "['Data\\\\Vehicle Data\\\\bicycle_tricycle.json',\n",
       " 'Data\\\\Vehicle Data\\\\buses.json',\n",
       " 'Data\\\\Vehicle Data\\\\cars_SUV.json',\n",
       " 'Data\\\\Vehicle Data\\\\jeepney.json',\n",
       " 'Data\\\\Vehicle Data\\\\largeTrucks.json',\n",
       " 'Data\\\\Vehicle Data\\\\motorcycles_scooters.json',\n",
       " 'Data\\\\Vehicle Data\\\\motorela.json',\n",
       " 'Data\\\\Vehicle Data\\\\smallTrucks.json',\n",
       " 'Data\\\\Vehicle Data\\\\taxi.json']"
      ]
     },
     "execution_count": 21,
     "metadata": {},
     "output_type": "execute_result"
    }
   ],
   "source": [
    "import os\n",
    "\n",
    "#extracts the json directory\n",
    "files = [file for file in os.listdir('Data\\Vehicle Data') \n",
    "if os.path.isfile(os.path.join('Data\\Vehicle Data',file))==True]\n",
    "json_files = [os.path.join('Data\\Vehicle Data',file) for file in files if file.split('.')[1]=='json']\n",
    "json_files"
   ]
  },
  {
   "cell_type": "code",
   "execution_count": 34,
   "metadata": {},
   "outputs": [
    {
     "data": {
      "text/plain": [
       "dict_keys(['bicycle_tricycle', 'buses', 'cars_SUV', 'jeepney', 'largeTrucks', 'motorcycles_scooters', 'motorela', 'smallTrucks', 'taxi'])"
      ]
     },
     "execution_count": 34,
     "metadata": {},
     "output_type": "execute_result"
    }
   ],
   "source": [
    "import logic as lc\n",
    "\n",
    "vtype_dict = {}\n",
    "for i in json_files:\n",
    "    vtype = lc.json_loader(i)\n",
    "    vtype_dict[vtype['id']] = vtype\n",
    "\n",
    "vtype_dict.keys()"
   ]
  },
  {
   "cell_type": "code",
   "execution_count": 90,
   "metadata": {},
   "outputs": [
    {
     "data": {
      "text/plain": [
       "cars_SUV                0.315631\n",
       "motorcycles_scooters    0.238142\n",
       "taxi                    0.096226\n",
       "buses                   0.000798\n",
       "smallTrucks             0.013210\n",
       "largeTrucks             0.000975\n",
       "bicycle_tricycle        0.003576\n",
       "jeepney                 0.050330\n",
       "motorela                0.281112\n",
       "dtype: float64"
      ]
     },
     "execution_count": 90,
     "metadata": {},
     "output_type": "execute_result"
    }
   ],
   "source": [
    "import pandas as pd\n",
    "import openpyxl\n",
    "\n",
    "#Create dataframe of probability distribution from TVC Data\n",
    "wb = openpyxl.load_workbook('Data\\Intersection Data\\Corrales - JR Borja\\TVC Summary.xlsx',data_only=True)\n",
    "sheets = wb.sheetnames\n",
    "all_dfs=[]\n",
    "for sheet in sheets:\n",
    "    ws = wb[sheet]\n",
    "\n",
    "    column_names=ws['B1:K1']\n",
    "    data = ws['B2:K17']\n",
    "\n",
    "    all_data = []\n",
    "    for row in data:\n",
    "        rows=[]\n",
    "        for cell in row:\n",
    "            rows.append(cell.value)\n",
    "        all_data.append(rows)\n",
    "\n",
    "    columns=[]\n",
    "    for row in column_names:\n",
    "        for cell in row:\n",
    "            columns.append(cell.value)\n",
    "    \n",
    "    df = pd.DataFrame(all_data, columns=columns)\n",
    "    all_dfs.append(df)\n",
    "\n",
    "main_df = pd.concat(all_dfs).fillna(0).reset_index(drop=True).iloc[:,0:-1]  #drop others column\n",
    "distribution_df = main_df.sum()/main_df.sum().sum()\n",
    "distribution_df #probability distribution"
   ]
  },
  {
   "cell_type": "code",
   "execution_count": 98,
   "metadata": {},
   "outputs": [
    {
     "data": {
      "text/plain": [
       "{'cars_SUV': 0.316,\n",
       " 'motorcycles_scooters': 0.238,\n",
       " 'taxi': 0.096,\n",
       " 'buses': 0.001,\n",
       " 'smallTrucks': 0.013,\n",
       " 'largeTrucks': 0.001,\n",
       " 'bicycle_tricycle': 0.004,\n",
       " 'jeepney': 0.05,\n",
       " 'motorela': 0.281}"
      ]
     },
     "execution_count": 98,
     "metadata": {},
     "output_type": "execute_result"
    }
   ],
   "source": [
    "import numpy as np\n",
    "distribution_dict={}\n",
    "\n",
    "for idx, value in enumerate(distribution_df):\n",
    "    distribution_dict[distribution_df.index.values[idx]] = float(np.round(value, 3))\n",
    "\n",
    "distribution_dict"
   ]
  },
  {
   "cell_type": "code",
   "execution_count": null,
   "metadata": {},
   "outputs": [],
   "source": []
  },
  {
   "cell_type": "markdown",
   "metadata": {},
   "source": [
    "## Create Distribution XML on Simulation Training Folder "
   ]
  },
  {
   "cell_type": "code",
   "execution_count": 83,
   "metadata": {},
   "outputs": [
    {
     "data": {
      "text/plain": [
       "cars_SUV                0.315631\n",
       "motorcycles_scooters    0.238142\n",
       "taxi                    0.096226\n",
       "buses                   0.000798\n",
       "smallTrucks             0.013210\n",
       "largeTrucks             0.000975\n",
       "bicycle_tricycle        0.003576\n",
       "jeepney                 0.050330\n",
       "motorela                0.281112\n",
       "dtype: float64"
      ]
     },
     "execution_count": 83,
     "metadata": {},
     "output_type": "execute_result"
    }
   ],
   "source": [
    "with open('distribution.xml')"
   ]
  }
 ],
 "metadata": {
  "interpreter": {
   "hash": "b3c0ec9e9f99b7bdfe271bef436e807137f3dcedc5d9482884128fa5654513db"
  },
  "kernelspec": {
   "display_name": "Python 3.9.7 ('base')",
   "language": "python",
   "name": "python3"
  },
  "language_info": {
   "codemirror_mode": {
    "name": "ipython",
    "version": 3
   },
   "file_extension": ".py",
   "mimetype": "text/x-python",
   "name": "python",
   "nbconvert_exporter": "python",
   "pygments_lexer": "ipython3",
   "version": "3.9.7"
  },
  "orig_nbformat": 4
 },
 "nbformat": 4,
 "nbformat_minor": 2
}
